{
 "cells": [
  {
   "cell_type": "code",
   "execution_count": 1,
   "id": "aa77ee66",
   "metadata": {},
   "outputs": [],
   "source": [
    "from sklearn.feature_extraction.text import TfidfVectorizer\n",
    "from sklearn.cluster import KMeans\n",
    "import pandas as pd\n",
    "from wordcloud import WordCloud"
   ]
  },
  {
   "cell_type": "code",
   "execution_count": 2,
   "id": "e3a9b8af",
   "metadata": {},
   "outputs": [],
   "source": [
    "data1 = \"Cancer is a worldwide public health problem causing increasing morbidity and mortality, particularly in the developing world. Underlying trends are changing the pattern of cancer and this is also being influenced by the HIV/AIDS pandemic, particularly in Sub-Saharan Africa.\"\n",
    "data2 = \"COVID-19 remains a threat to the entire world. In an attempt to curb its spread and facilitate its treatment, the technological tool that is Artificial Intelligence (AI) is being researched as a potential alternative to conventional methods. Industrial Revolution 4.0 marks the dawn to the combination of digital, physical and biological systems, by application of digital skills such as Blockchain, Internet of things, Artificial Intelligence and Big data. \"\n",
    "data3 = \"Clinical trials and real-world evidence (RWE) present conflicting results on the benefit of cyclin-dependent kinase 4 and 6 inhibitors for patients with advanced hormone receptor (HR)–positive and human epidermal growth factor receptor-2 overexpressing breast cancer. How can RWE be interpreted and used to help guide clinical decisions?\"\n",
    "data4 = \"GIS is a powerful tool that can be used to locate springs sourced in ophiolites. The uniquefeatures associated with these springs include a reducing subsurface environment reacting at lowtemperatures producing high pH, Ca-rich formation fluids with high dissolved hydrogen andmethane. Because of their unique chemical characteristics, these areas are often associated withmicrobes and are thought to be similar to the features that enabled life to evolve on Earth.Locating and sampling these springs could offer a deeper look into Earth's deep biosphere andthe history of life on Earth. Springs have tradiitionally been located using expensive and timeconsuming field techniques. Field work can be dangerous. The goal of this study was to developa model that could locate these unique geological features without first going into the field, thussaving time, money and reducing the risks associated with remote field localities. A GIS sitesuitability analysis works by overlaying existing geo-referenced data into a computer programand adding the different data sets after assigning a numerical value to the important fields. Forthis project, I used surface and ground water maps, geologic maps, a soil map, and a fault mapfor four counties in Northern California. The model has demonstrated that it is possible to usthis time of model and apply it to a complex geologic area to produce a usable field map forfuture field work.\"\n",
    "data5 = \"We assessed the oral health of the Pine Ridge Oglala Lakota people, described a new oral healthassessment tool for Indigenous people, and suggested ways to improve Native oral health. ThCheck Up Study team of dentist and dental hygienists performed examinations of teeth and oralsoft tissue for a convenience sample of 292 adults and children. Screening personnel counted thenumber of decayed, filled, sealed and total teeth, used probes to measure periodontal disease, andscreened for oral lesions.\"\n",
    "data6 = \"The Southwest shrub Juniperus communis (Juniper Berry) has many significant medicinal valuein the Native American culture that has not been proven scientifically. One of the popular usesof Juniper berries aside from its detoxifying action is its potential to repel insects. This studyfocuses on the development of insect repellant from its essential oil obtained through steamdistillation. 50 g of fresh berries was collected and dried for 5 days and is placed in a stilltank with 100 mL of water for steam distillation using the Flinn Scientific Borosilicate LabKit. \"\n",
    "abstracts = [data1,data2,data3,data4,data5,data6]\n",
    "title = [\"Cancer\",\"AI in COVID\",\"cancer 2\",\"GIS\",\"Oral Health\",\"Shrub\"]\n",
    "vectorizer = TfidfVectorizer(stop_words='english')\n",
    "X = vectorizer.fit_transform(abstracts)"
   ]
  },
  {
   "cell_type": "code",
   "execution_count": 18,
   "id": "085c0377",
   "metadata": {},
   "outputs": [],
   "source": [
    "Sum_of_squared_distances = []\n",
    "K = range(2,6)\n",
    "for k in K:\n",
    "    km = KMeans(n_clusters=k, max_iter=200, n_init=10)\n",
    "    km = km.fit(X)\n",
    "    Sum_of_squared_distances.append(km.inertia_)\n"
   ]
  },
  {
   "cell_type": "code",
   "execution_count": 19,
   "id": "18ac87f3",
   "metadata": {},
   "outputs": [
    {
     "name": "stdout",
     "output_type": "stream",
     "text": [
      "[3.903158265351406, 2.9130282916032826, 1.9255982414067612, 0.9440707906660328]\n",
      "         title  cluster\n",
      "5        Shrub        0\n",
      "0       Cancer        1\n",
      "2     cancer 2        1\n",
      "4  Oral Health        2\n",
      "1  AI in COVID        3\n",
      "3          GIS        3\n",
      "Cluster: 0\n",
      "Titles\n",
      "Shrub\n",
      "Cluster: 1\n",
      "Titles\n",
      "  Cancer\n",
      "cancer 2\n",
      "Cluster: 2\n",
      "Titles\n",
      "Oral Health\n",
      "Cluster: 3\n",
      "Titles\n",
      "AI in COVID\n",
      "        GIS\n"
     ]
    }
   ],
   "source": [
    "true_k = 4\n",
    "print(Sum_of_squared_distances)\n",
    "model = KMeans(n_clusters=true_k, init='k-means++', max_iter=200, n_init=10)\n",
    "model.fit(X)\n",
    "labels=model.labels_\n",
    "wiki_cl=pd.DataFrame(list(zip(title,labels)),columns=['title','cluster'])\n",
    "print(wiki_cl.sort_values(by=['cluster']))\n",
    "result={'cluster':labels,'abstracts':abstracts}\n",
    "result=pd.DataFrame(result)\n",
    "for k in range(0,true_k):\n",
    "    s=result[result.cluster==k]\n",
    "    text=s['abstracts'].str.cat(sep=' ')\n",
    "    text=text.lower()\n",
    "    text=' '.join([word for word in text.split()])\n",
    "    wordcloud = WordCloud(max_font_size=50, max_words=100, background_color=\"white\").generate(text)\n",
    "    print('Cluster: {}'.format(k))\n",
    "    print('Titles')\n",
    "    titles=wiki_cl[wiki_cl.cluster==k]['title']         \n",
    "    print(titles.to_string(index=False))"
   ]
  },
  {
   "cell_type": "code",
   "execution_count": null,
   "id": "32cca37a",
   "metadata": {},
   "outputs": [],
   "source": []
  }
 ],
 "metadata": {
  "kernelspec": {
   "display_name": "Python 3 (ipykernel)",
   "language": "python",
   "name": "python3"
  },
  "language_info": {
   "codemirror_mode": {
    "name": "ipython",
    "version": 3
   },
   "file_extension": ".py",
   "mimetype": "text/x-python",
   "name": "python",
   "nbconvert_exporter": "python",
   "pygments_lexer": "ipython3",
   "version": "3.10.7"
  }
 },
 "nbformat": 4,
 "nbformat_minor": 5
}
